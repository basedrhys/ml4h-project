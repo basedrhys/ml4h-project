{
 "cells": [
  {
   "cell_type": "code",
   "execution_count": 21,
   "id": "141b5363-b50b-45f7-b70d-a83fa42c1461",
   "metadata": {},
   "outputs": [],
   "source": [
    "# Import necessary libraries\n",
    "from fastai.basics import *\n",
    "from fastai.data.all import *\n",
    "from fastai.vision.all import *\n",
    "from fastai.callback.all import *\n",
    "\n",
    "from fastai.metrics import *\n",
    "from fastai.callback.wandb import *\n",
    "\n",
    "import numpy as np\n",
    "from PIL import Image\n",
    "\n",
    "from matplotlib import pyplot as plt\n",
    "\n",
    "from tqdm.auto import tqdm\n",
    "\n",
    "import os\n",
    "import cv2\n",
    "import shutil\n",
    "\n",
    "import matplotlib.image as mpimg\n",
    "from matplotlib import rcParams\n",
    "\n",
    "from random import sample\n",
    "\n",
    "%matplotlib inline\n",
    "\n",
    "# figure size in inches optional\n",
    "rcParams['figure.figsize'] = 16 ,8\n",
    "import os"
   ]
  },
  {
   "cell_type": "code",
   "execution_count": 5,
   "id": "8311d07c-b603-4dbe-aeca-10c04aba08ff",
   "metadata": {},
   "outputs": [],
   "source": [
    "# Load the raw dataset and gt masks\n",
    "root_path = Path(\"/scratch/rc4499/hospital_systems_crop\")\n",
    "img_path = root_path/\"imgs\"\n",
    "output_mask_path = root_path/\"masks_smooth\"\n",
    "\n",
    "img_fnames = get_image_files(img_path)"
   ]
  },
  {
   "cell_type": "code",
   "execution_count": 24,
   "id": "55e7565e-c3dc-4189-a7d5-a316598f1d77",
   "metadata": {},
   "outputs": [
    {
     "data": {
      "text/plain": [
       "(238717,\n",
       " (#238717) [Path('/scratch/rc4499/hospital_systems_crop/imgs/chexpert/patient05080_study1_view1_frontal.jpg'),Path('/scratch/rc4499/hospital_systems_crop/imgs/chexpert/patient33525_study2_view1_frontal.jpg'),Path('/scratch/rc4499/hospital_systems_crop/imgs/chexpert/patient13898_study3_view1_frontal.jpg'),Path('/scratch/rc4499/hospital_systems_crop/imgs/chexpert/patient03781_study11_view1_frontal.jpg'),Path('/scratch/rc4499/hospital_systems_crop/imgs/chexpert/patient05613_study4_view1_frontal.jpg'),Path('/scratch/rc4499/hospital_systems_crop/imgs/chexpert/patient44813_study8_view1_frontal.jpg'),Path('/scratch/rc4499/hospital_systems_crop/imgs/chexpert/patient51719_study1_view1_frontal.jpg'),Path('/scratch/rc4499/hospital_systems_crop/imgs/chexpert/patient12921_study1_view1_frontal.jpg'),Path('/scratch/rc4499/hospital_systems_crop/imgs/chexpert/patient54500_study1_view1_frontal.jpg'),Path('/scratch/rc4499/hospital_systems_crop/imgs/chexpert/patient25207_study5_view1_frontal.jpg')...])"
      ]
     },
     "execution_count": 24,
     "metadata": {},
     "output_type": "execute_result"
    }
   ],
   "source": [
    "len(img_fnames), img_fnames"
   ]
  },
  {
   "cell_type": "code",
   "execution_count": 25,
   "id": "a256a0f0-aa3a-4b5d-9159-d2c4c68452f2",
   "metadata": {},
   "outputs": [],
   "source": [
    "os.makedirs(output_mask_path, exist_ok=True)"
   ]
  },
  {
   "cell_type": "code",
   "execution_count": 26,
   "id": "3ff922ca-d9e1-4d2d-ae0c-6f59cdc1ef4c",
   "metadata": {},
   "outputs": [
    {
     "data": {
      "application/vnd.jupyter.widget-view+json": {
       "model_id": "63350d3286da472b91da848e9f8ec2a6",
       "version_major": 2,
       "version_minor": 0
      },
      "text/plain": [
       "  0%|          | 0/238717 [00:00<?, ?it/s]"
      ]
     },
     "metadata": {},
     "output_type": "display_data"
    },
    {
     "ename": "KeyboardInterrupt",
     "evalue": "",
     "output_type": "error",
     "traceback": [
      "\u001b[0;31m---------------------------------------------------------------------------\u001b[0m",
      "\u001b[0;31mKeyboardInterrupt\u001b[0m                         Traceback (most recent call last)",
      "\u001b[0;32m/tmp/ipykernel_6982/294401464.py\u001b[0m in \u001b[0;36m<module>\u001b[0;34m\u001b[0m\n\u001b[1;32m      9\u001b[0m \u001b[0;32mfor\u001b[0m \u001b[0mfname\u001b[0m \u001b[0;32min\u001b[0m \u001b[0mtqdm\u001b[0m\u001b[0;34m(\u001b[0m\u001b[0mimg_fnames\u001b[0m\u001b[0;34m)\u001b[0m\u001b[0;34m:\u001b[0m\u001b[0;34m\u001b[0m\u001b[0;34m\u001b[0m\u001b[0m\n\u001b[1;32m     10\u001b[0m     \u001b[0mim\u001b[0m \u001b[0;34m=\u001b[0m \u001b[0mImage\u001b[0m\u001b[0;34m.\u001b[0m\u001b[0mfromarray\u001b[0m\u001b[0;34m(\u001b[0m\u001b[0marr\u001b[0m\u001b[0;34m)\u001b[0m\u001b[0;34m\u001b[0m\u001b[0;34m\u001b[0m\u001b[0m\n\u001b[0;32m---> 11\u001b[0;31m     \u001b[0mim\u001b[0m\u001b[0;34m.\u001b[0m\u001b[0msave\u001b[0m\u001b[0;34m(\u001b[0m\u001b[0moutput_mask_path\u001b[0m\u001b[0;34m/\u001b[0m\u001b[0mfname\u001b[0m\u001b[0;34m)\u001b[0m\u001b[0;34m\u001b[0m\u001b[0;34m\u001b[0m\u001b[0m\n\u001b[0m\u001b[1;32m     12\u001b[0m \u001b[0;34m\u001b[0m\u001b[0m\n\u001b[1;32m     13\u001b[0m \u001b[0;31m# # display images\u001b[0m\u001b[0;34m\u001b[0m\u001b[0;34m\u001b[0m\u001b[0;34m\u001b[0m\u001b[0m\n",
      "\u001b[0;32m~/.local/lib/python3.7/site-packages/PIL/Image.py\u001b[0m in \u001b[0;36msave\u001b[0;34m(self, fp, format, **params)\u001b[0m\n\u001b[1;32m   2235\u001b[0m                 \u001b[0mfp\u001b[0m \u001b[0;34m=\u001b[0m \u001b[0mbuiltins\u001b[0m\u001b[0;34m.\u001b[0m\u001b[0mopen\u001b[0m\u001b[0;34m(\u001b[0m\u001b[0mfilename\u001b[0m\u001b[0;34m,\u001b[0m \u001b[0;34m\"r+b\"\u001b[0m\u001b[0;34m)\u001b[0m\u001b[0;34m\u001b[0m\u001b[0;34m\u001b[0m\u001b[0m\n\u001b[1;32m   2236\u001b[0m             \u001b[0;32melse\u001b[0m\u001b[0;34m:\u001b[0m\u001b[0;34m\u001b[0m\u001b[0;34m\u001b[0m\u001b[0m\n\u001b[0;32m-> 2237\u001b[0;31m                 \u001b[0mfp\u001b[0m \u001b[0;34m=\u001b[0m \u001b[0mbuiltins\u001b[0m\u001b[0;34m.\u001b[0m\u001b[0mopen\u001b[0m\u001b[0;34m(\u001b[0m\u001b[0mfilename\u001b[0m\u001b[0;34m,\u001b[0m \u001b[0;34m\"w+b\"\u001b[0m\u001b[0;34m)\u001b[0m\u001b[0;34m\u001b[0m\u001b[0;34m\u001b[0m\u001b[0m\n\u001b[0m\u001b[1;32m   2238\u001b[0m \u001b[0;34m\u001b[0m\u001b[0m\n\u001b[1;32m   2239\u001b[0m         \u001b[0;32mtry\u001b[0m\u001b[0;34m:\u001b[0m\u001b[0;34m\u001b[0m\u001b[0;34m\u001b[0m\u001b[0m\n",
      "\u001b[0;31mKeyboardInterrupt\u001b[0m: "
     ]
    }
   ],
   "source": [
    "mask_dim = 448\n",
    "crop_dim = 150\n",
    "arr = np.zeros((mask_dim,mask_dim)).astype(np.uint8)\n",
    "total_width = mask_dim-crop_dim\n",
    "start = int(total_width / 2)\n",
    "end = start + crop_dim\n",
    "arr[start:end, start:end] = 255\n",
    "\n",
    "for fname in tqdm(img_fnames):\n",
    "    im = Image.fromarray(arr)\n",
    "    im.save(output_mask_path/fname)\n",
    "\n",
    "# # display images\n",
    "# fig, ax = plt.subplots(1,2)\n",
    "# ax[0].imshow(arr);\n",
    "# # ax[1].imshow(img_B)\n",
    "\n",
    "# # print(f\"Starting from {start} to {end}\")\n",
    "\n",
    "\n",
    "\n",
    "# # for fname in img_fnames:\n",
    "# arr, arr.shape\n"
   ]
  },
  {
   "cell_type": "code",
   "execution_count": null,
   "id": "64656c6f-cab9-4492-857b-680d03ae2d7b",
   "metadata": {},
   "outputs": [],
   "source": []
  }
 ],
 "metadata": {
  "kernelspec": {
   "display_name": "Python 3 (ipykernel)",
   "language": "python",
   "name": "python3"
  },
  "language_info": {
   "codemirror_mode": {
    "name": "ipython",
    "version": 3
   },
   "file_extension": ".py",
   "mimetype": "text/x-python",
   "name": "python",
   "nbconvert_exporter": "python",
   "pygments_lexer": "ipython3",
   "version": "3.7.11"
  }
 },
 "nbformat": 4,
 "nbformat_minor": 5
}
