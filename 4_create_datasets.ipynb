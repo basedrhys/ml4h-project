{
 "cells": [
  {
   "cell_type": "code",
   "execution_count": 1,
   "id": "dc0d0ba9-bcd3-4a54-a7c5-24e22b24a2e3",
   "metadata": {},
   "outputs": [],
   "source": [
    "from pathlib import Path\n",
    "\n",
    "from fastai.vision import *\n",
    "from fastai.data.transforms import get_image_files\n",
    "from fastai.vision.core import PILImage, PILMask\n",
    "\n",
    "import numpy as np\n",
    "from skimage.morphology.convex_hull import convex_hull_image\n",
    "from PIL import Image\n",
    "\n",
    "from matplotlib import pyplot as plt\n",
    "\n",
    "from tqdm.notebook import tqdm\n",
    "\n",
    "import os\n",
    "import cv2\n",
    "import shutil\n",
    "\n",
    "from matplotlib import rcParams\n",
    "\n",
    "%matplotlib inline\n",
    "\n",
    "# figure size in inches optional\n",
    "rcParams['figure.figsize'] = 16 ,8"
   ]
  },
  {
   "cell_type": "code",
   "execution_count": 2,
   "id": "d496d4d2-40f6-4dad-9df2-a0f5af1dc248",
   "metadata": {},
   "outputs": [],
   "source": [
    "# Load the raw dataset and gt masks\n",
    "root_path = Path(\"/scratch/rc4499/pneumonia_clean\")\n",
    "img_path = root_path/\"imgs\"\n",
    "mask_path = root_path/\"masks_smooth\"\n",
    "\n",
    "img_fnames = get_image_files(img_path)\n",
    "# mask_fnames = get_image_files(mask_path)"
   ]
  },
  {
   "cell_type": "code",
   "execution_count": 3,
   "id": "f6971abc-c1b0-4cf5-824a-54496672ecdd",
   "metadata": {},
   "outputs": [],
   "source": [
    "def get_mask_path(dataset_type, fpath):\n",
    "    if dataset_type == \"pneumonia\":\n",
    "        return mask_path/fpath.name\n",
    "    if dataset_type == \"hospital_systems\":\n",
    "        return mask_path/fpath.name\n",
    "\n",
    "def create_instances(img_fnms, mask_fnms):\n",
    "    result = []\n",
    "    for fname in img_fnms:\n",
    "        mask_name = get_mask_path(\"pneumonia\", fname)\n",
    "        result.append((fname, mask_name))\n",
    "        \n",
    "    return result"
   ]
  },
  {
   "cell_type": "code",
   "execution_count": 4,
   "id": "46da52cb-034d-435c-94cc-caf4e0da0238",
   "metadata": {},
   "outputs": [
    {
     "ename": "NameError",
     "evalue": "name 'mask_fnames' is not defined",
     "output_type": "error",
     "traceback": [
      "\u001b[0;31m---------------------------------------------------------------------------\u001b[0m",
      "\u001b[0;31mNameError\u001b[0m                                 Traceback (most recent call last)",
      "\u001b[0;32m/tmp/ipykernel_5328/101850955.py\u001b[0m in \u001b[0;36m<module>\u001b[0;34m\u001b[0m\n\u001b[0;32m----> 1\u001b[0;31m \u001b[0minstances\u001b[0m \u001b[0;34m=\u001b[0m \u001b[0mcreate_instances\u001b[0m\u001b[0;34m(\u001b[0m\u001b[0mimg_fnames\u001b[0m\u001b[0;34m,\u001b[0m \u001b[0mmask_fnames\u001b[0m\u001b[0;34m)\u001b[0m\u001b[0;34m\u001b[0m\u001b[0;34m\u001b[0m\u001b[0m\n\u001b[0m\u001b[1;32m      2\u001b[0m \u001b[0;34m\u001b[0m\u001b[0m\n\u001b[1;32m      3\u001b[0m \u001b[0mlen\u001b[0m\u001b[0;34m(\u001b[0m\u001b[0minstances\u001b[0m\u001b[0;34m)\u001b[0m\u001b[0;34m\u001b[0m\u001b[0;34m\u001b[0m\u001b[0m\n",
      "\u001b[0;31mNameError\u001b[0m: name 'mask_fnames' is not defined"
     ]
    }
   ],
   "source": [
    "instances = create_instances(img_fnames, mask_fnames)\n",
    "\n",
    "len(instances)"
   ]
  },
  {
   "cell_type": "code",
   "execution_count": 13,
   "id": "ca6de0af-bbb9-4fd4-9483-76767d699dcd",
   "metadata": {},
   "outputs": [],
   "source": [
    "from sklearn.model_selection import train_test_split\n",
    "\n",
    "def create_splits(df, already_split = True, combine=False):\n",
    "    \"\"\"\n",
    "    Create the training/val/test split\n",
    "    \"\"\"\n",
    "    if combine:\n",
    "        return {\"combined\": df}\n",
    "    \n",
    "    train_ratio = 0.80\n",
    "    validation_ratio = 0.10\n",
    "    test_ratio = 0.10\n",
    "    df_train, df_val, df_test = [], [], []\n",
    "    if already_split:\n",
    "        for p in df:\n",
    "            if \"/train/\" in str(p):\n",
    "                df_train.append(p)\n",
    "            elif \"/val/\" in str(p):\n",
    "                df_val.append(p)\n",
    "            elif \"/test/\" in str(p):\n",
    "                df_test.append(p)\n",
    "            else:\n",
    "                raise Exception(\"Split not found\")\n",
    "    else:\n",
    "        # train is now 80% of the entire data set\n",
    "        # the _junk suffix means that we drop that variable completely\n",
    "        df_train, df_val = train_test_split(df, test_size=1 - train_ratio, random_state=0)\n",
    "\n",
    "        # # test is now 10% of the initial data set\n",
    "        # # validation is now 10% of the initial data set\n",
    "        df_val, df_test = train_test_split(df_val, test_size=test_ratio/(test_ratio + validation_ratio), random_state=42) \n",
    "\n",
    "    print(f\"Split {len(df)} instances into train:{len(df_train)}, val:{len(df_val)}, test:{len(df_test)}\")\n",
    "    \n",
    "    return {\"train\": df_train, \"val\": df_val, \"test\": df_test}"
   ]
  },
  {
   "cell_type": "code",
   "execution_count": 18,
   "id": "50f2a66f-6c05-447c-ac14-b92937e71602",
   "metadata": {},
   "outputs": [
    {
     "name": "stdout",
     "output_type": "stream",
     "text": [
      "Split 5856 instances into train:4684, val:586, test:586\n"
     ]
    }
   ],
   "source": [
    "MASK_VERSIONS = [\"none\", \"raw\", \"convex_hull\"]\n",
    "# MASK_VERSIONS = [\"convex_hull\"]\n",
    "\n",
    "splits = create_splits(instances, already_split=False)\n",
    "# len(splits[\"combined\"])\n",
    "# splits = {\"combined\": img_fnames}"
   ]
  },
  {
   "cell_type": "code",
   "execution_count": 19,
   "id": "68526dab-9399-41bf-9b25-d285a112e742",
   "metadata": {},
   "outputs": [],
   "source": [
    "def label_func_pneumonia(fname):\n",
    "    fname = str(fname)\n",
    "    if \"/NORMAL/\" in fname:\n",
    "        return \"NORMAL\"\n",
    "    elif \"/PNEUMONIA/\" in fname:\n",
    "        return \"PNEUMONIA\"\n",
    "    else:\n",
    "        raise Exception(\"Invalid file path\")"
   ]
  },
  {
   "cell_type": "code",
   "execution_count": 20,
   "id": "15efe6c1-6cd3-4f1b-91de-7a462670e65a",
   "metadata": {},
   "outputs": [],
   "source": [
    "from PIL import Image, ImageOps\n",
    "\n",
    "def resize_img(im, desired_size=448):\n",
    "    old_size = im.shape[:2] # old_size is in (height, width) format\n",
    "\n",
    "    ratio = float(desired_size)/max(old_size)\n",
    "    new_size = tuple([int(x*ratio) for x in old_size])\n",
    "\n",
    "    # new_size should be in (width, height) format\n",
    "    im = cv2.resize(im, (new_size[1], new_size[0]))\n",
    "\n",
    "    delta_w = desired_size - new_size[1]\n",
    "    delta_h = desired_size - new_size[0]\n",
    "    top, bottom = delta_h//2, delta_h-(delta_h//2)\n",
    "    left, right = delta_w//2, delta_w-(delta_w//2)\n",
    "\n",
    "    color = [0, 0, 0]\n",
    "    new_im = cv2.copyMakeBorder(im, top, bottom, left, right, cv2.BORDER_CONSTANT, value=color)\n",
    "    return new_im"
   ]
  },
  {
   "cell_type": "code",
   "execution_count": 21,
   "id": "ccf8c51b-7bf3-4dd6-a057-3b97083fbe75",
   "metadata": {},
   "outputs": [],
   "source": [
    "def label_func(fname):\n",
    "    return 0 if \"_0.png\" in fname else 1"
   ]
  },
  {
   "cell_type": "code",
   "execution_count": 22,
   "id": "e38f8086-de79-440f-9266-d15073801a7e",
   "metadata": {},
   "outputs": [
    {
     "data": {
      "application/vnd.jupyter.widget-view+json": {
       "model_id": "dc2e713a6a6547f6b2914d056d38404a",
       "version_major": 2,
       "version_minor": 0
      },
      "text/plain": [
       "Mask version:   0%|          | 0/3 [00:00<?, ?it/s]"
      ]
     },
     "metadata": {},
     "output_type": "display_data"
    },
    {
     "data": {
      "application/vnd.jupyter.widget-view+json": {
       "model_id": "5cc4108f0b7049e686bc01407c396f05",
       "version_major": 2,
       "version_minor": 0
      },
      "text/plain": [
       "Data Split:   0%|          | 0/3 [00:00<?, ?it/s]"
      ]
     },
     "metadata": {},
     "output_type": "display_data"
    },
    {
     "data": {
      "application/vnd.jupyter.widget-view+json": {
       "model_id": "369bc73c2e034490a604b970e69c013b",
       "version_major": 2,
       "version_minor": 0
      },
      "text/plain": [
       "  0%|          | 0/4684 [00:00<?, ?it/s]"
      ]
     },
     "metadata": {},
     "output_type": "display_data"
    },
    {
     "data": {
      "application/vnd.jupyter.widget-view+json": {
       "model_id": "98627aa8839d4e7eb81084f3164dcf82",
       "version_major": 2,
       "version_minor": 0
      },
      "text/plain": [
       "  0%|          | 0/586 [00:00<?, ?it/s]"
      ]
     },
     "metadata": {},
     "output_type": "display_data"
    },
    {
     "data": {
      "application/vnd.jupyter.widget-view+json": {
       "model_id": "255f22b38b164491a38bef36b05713c2",
       "version_major": 2,
       "version_minor": 0
      },
      "text/plain": [
       "  0%|          | 0/586 [00:00<?, ?it/s]"
      ]
     },
     "metadata": {},
     "output_type": "display_data"
    },
    {
     "data": {
      "application/vnd.jupyter.widget-view+json": {
       "model_id": "d9c6223a24e646a4ab2c933a53a79354",
       "version_major": 2,
       "version_minor": 0
      },
      "text/plain": [
       "Data Split:   0%|          | 0/3 [00:00<?, ?it/s]"
      ]
     },
     "metadata": {},
     "output_type": "display_data"
    },
    {
     "data": {
      "application/vnd.jupyter.widget-view+json": {
       "model_id": "7d3ed0952543435dba91d38e27915e48",
       "version_major": 2,
       "version_minor": 0
      },
      "text/plain": [
       "  0%|          | 0/4684 [00:00<?, ?it/s]"
      ]
     },
     "metadata": {},
     "output_type": "display_data"
    },
    {
     "data": {
      "application/vnd.jupyter.widget-view+json": {
       "model_id": "9b80b6d9b56544149a203b42f39b720e",
       "version_major": 2,
       "version_minor": 0
      },
      "text/plain": [
       "  0%|          | 0/586 [00:00<?, ?it/s]"
      ]
     },
     "metadata": {},
     "output_type": "display_data"
    },
    {
     "data": {
      "application/vnd.jupyter.widget-view+json": {
       "model_id": "432e845b13624098b02ea5e38f90802b",
       "version_major": 2,
       "version_minor": 0
      },
      "text/plain": [
       "  0%|          | 0/586 [00:00<?, ?it/s]"
      ]
     },
     "metadata": {},
     "output_type": "display_data"
    },
    {
     "data": {
      "application/vnd.jupyter.widget-view+json": {
       "model_id": "844e783db3c14f9fb23d39dd7e8d694f",
       "version_major": 2,
       "version_minor": 0
      },
      "text/plain": [
       "Data Split:   0%|          | 0/3 [00:00<?, ?it/s]"
      ]
     },
     "metadata": {},
     "output_type": "display_data"
    },
    {
     "data": {
      "application/vnd.jupyter.widget-view+json": {
       "model_id": "76291d1b4c4a4468b8958795a8c538bf",
       "version_major": 2,
       "version_minor": 0
      },
      "text/plain": [
       "  0%|          | 0/4684 [00:00<?, ?it/s]"
      ]
     },
     "metadata": {},
     "output_type": "display_data"
    },
    {
     "name": "stderr",
     "output_type": "stream",
     "text": [
      "/ext3/miniconda3/envs/ml4h/lib/python3.7/site-packages/ipykernel_launcher.py:26: UserWarning: Input image is entirely zero, no valid convex hull. Returning empty image\n"
     ]
    },
    {
     "data": {
      "application/vnd.jupyter.widget-view+json": {
       "model_id": "8a78008df9e044b8b0fe7ee415d8ec86",
       "version_major": 2,
       "version_minor": 0
      },
      "text/plain": [
       "  0%|          | 0/586 [00:00<?, ?it/s]"
      ]
     },
     "metadata": {},
     "output_type": "display_data"
    },
    {
     "data": {
      "application/vnd.jupyter.widget-view+json": {
       "model_id": "acc7df8bf8d74ee0b2c196f68d8465a6",
       "version_major": 2,
       "version_minor": 0
      },
      "text/plain": [
       "  0%|          | 0/586 [00:00<?, ?it/s]"
      ]
     },
     "metadata": {},
     "output_type": "display_data"
    }
   ],
   "source": [
    "output_path = Path(\"/scratch/rc4499/masked/pneumonia\")\n",
    "\n",
    "for mask_version in tqdm(MASK_VERSIONS, desc=\"Mask version\"):\n",
    "    for split_name, split_files in tqdm(splits.items(), desc=\"Data Split\"):\n",
    "\n",
    "        output_dir = output_path/mask_version/split_name\n",
    "        \n",
    "        shutil.rmtree(output_dir, ignore_errors=True)\n",
    "\n",
    "        for inst in tqdm(split_files, total=len(split_files)):\n",
    "            img_fname = inst[0]\n",
    "            mask_fname = inst[1]\n",
    "            # mask_fname = \"\"\n",
    "        \n",
    "            # load the original input image and display it to our screen\n",
    "            # image = np.asarray(PILImage.create(img_fname))\n",
    "            image = cv2.imread(str(img_fname))\n",
    "            resized_img = resize_img(image)\n",
    "            mask = np.asarray(PILMask.create(mask_fname))\n",
    "\n",
    "            if mask_version == \"none\":\n",
    "                mask[:,:] = 255\n",
    "            elif mask_version == \"raw\":\n",
    "                pass\n",
    "            elif mask_version == \"convex_hull\":\n",
    "                hull = convex_hull_image(mask)\n",
    "                mask = hull.astype(np.uint8) * 255\n",
    "            else:\n",
    "                raise Exception(f\"Invalid mask version {mask_version}\")\n",
    "            \n",
    "            masked = cv2.bitwise_and(resized_img, resized_img, mask=mask)\n",
    "            # masked = resized_img\n",
    "            \n",
    "            # # display images\n",
    "            # fig, ax = plt.subplots(1,4)\n",
    "            # ax[0].imshow(image)\n",
    "            # ax[1].imshow(resized_img);\n",
    "            # ax[2].imshow(mask, cmap=\"gray\")\n",
    "            # ax[3].imshow(masked)\n",
    "            im = Image.fromarray(masked)\n",
    "            os.makedirs(f\"{output_dir}/{label_func_pneumonia(img_fname)}\", exist_ok=True)\n",
    "            im.save(f\"{output_dir}/{label_func_pneumonia(img_fname)}/{img_fname.name}\")"
   ]
  },
  {
   "cell_type": "code",
   "execution_count": null,
   "id": "75624edb-72f9-4f24-8eb0-1813e418cbec",
   "metadata": {},
   "outputs": [],
   "source": []
  }
 ],
 "metadata": {
  "kernelspec": {
   "display_name": "Python 3 (ipykernel)",
   "language": "python",
   "name": "python3"
  },
  "language_info": {
   "codemirror_mode": {
    "name": "ipython",
    "version": 3
   },
   "file_extension": ".py",
   "mimetype": "text/x-python",
   "name": "python",
   "nbconvert_exporter": "python",
   "pygments_lexer": "ipython3",
   "version": "3.7.11"
  }
 },
 "nbformat": 4,
 "nbformat_minor": 5
}
