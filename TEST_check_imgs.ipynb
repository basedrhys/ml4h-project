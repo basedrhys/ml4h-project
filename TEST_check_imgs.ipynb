{
 "cells": [
  {
   "cell_type": "code",
   "execution_count": 7,
   "id": "2bc6242c-958f-42ba-bb32-5373d251bf88",
   "metadata": {},
   "outputs": [],
   "source": [
    "# Import necessary libraries\n",
    "from fastai.basics import *\n",
    "from fastai.data.all import *\n",
    "from fastai.vision.all import *\n",
    "from fastai.callback.all import *\n",
    "\n",
    "from fastai.metrics import *\n",
    "from fastai.callback.wandb import *\n",
    "from pathlib import Path\n",
    "import wandb\n",
    "\n",
    "from random import sample, randint\n",
    "\n",
    "import matplotlib.image as mpimg\n",
    "from matplotlib import rcParams\n",
    "import cv2\n",
    "%matplotlib inline\n",
    "\n",
    "from tqdm.auto import tqdm\n",
    "\n",
    "# figure size in inches optional\n",
    "rcParams['figure.figsize'] = 16 ,8"
   ]
  },
  {
   "cell_type": "code",
   "execution_count": 2,
   "id": "018708d1-550f-40d4-af38-7a8a6253e940",
   "metadata": {},
   "outputs": [],
   "source": [
    "root_path = Path(\"/scratch/rc4499/hospital_systems_crop\")\n",
    "\n",
    "imgs = get_image_files(root_path)"
   ]
  },
  {
   "cell_type": "code",
   "execution_count": null,
   "id": "faca610d-9dc1-40e0-b2f9-8aced58a71c9",
   "metadata": {},
   "outputs": [
    {
     "data": {
      "application/vnd.jupyter.widget-view+json": {
       "model_id": "4c07702443be46dfbe86766d128ceb33",
       "version_major": 2,
       "version_minor": 0
      },
      "text/plain": [
       "  0%|          | 0/238717 [00:00<?, ?it/s]"
      ]
     },
     "metadata": {},
     "output_type": "display_data"
    },
    {
     "name": "stdout",
     "output_type": "stream",
     "text": [
      "Couldn't load image /scratch/rc4499/hospital_systems_crop/imgs/chexpert/patient45045_study4_view1_frontal.jpg\n"
     ]
    }
   ],
   "source": [
    "for i in tqdm(imgs):\n",
    "    image = cv2.imread(str(i))\n",
    "    if image is None:\n",
    "        print(f\"Couldn't load image {i}\")"
   ]
  },
  {
   "cell_type": "code",
   "execution_count": null,
   "id": "81ded798-fad1-426d-b892-a00465b3b8b3",
   "metadata": {},
   "outputs": [],
   "source": []
  }
 ],
 "metadata": {
  "kernelspec": {
   "display_name": "Python 3 (ipykernel)",
   "language": "python",
   "name": "python3"
  },
  "language_info": {
   "codemirror_mode": {
    "name": "ipython",
    "version": 3
   },
   "file_extension": ".py",
   "mimetype": "text/x-python",
   "name": "python",
   "nbconvert_exporter": "python",
   "pygments_lexer": "ipython3",
   "version": "3.7.11"
  }
 },
 "nbformat": 4,
 "nbformat_minor": 5
}
